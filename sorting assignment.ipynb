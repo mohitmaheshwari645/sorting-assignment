{
 "cells": [
  {
   "cell_type": "markdown",
   "id": "4016c4cf-eda6-4f49-af1c-9adcdf39d34e",
   "metadata": {},
   "source": [
    "Problem 1.Given an array of n numbers, give an algorithm which gives the element appearing maximum\n",
    "number of times?"
   ]
  },
  {
   "cell_type": "markdown",
   "id": "1f2d9670-0720-46b3-8ddc-7c3736543d0a",
   "metadata": {},
   "source": [
    "Certainly! To find the element that appears the maximum number of times in an array, you can use a hash map to keep track of the frequency of each element. Here's a simple algorithm in Python:"
   ]
  },
  {
   "cell_type": "code",
   "execution_count": 1,
   "id": "4e59f73f-6c55-4bfe-a12c-2823076be851",
   "metadata": {},
   "outputs": [
    {
     "name": "stdout",
     "output_type": "stream",
     "text": [
      "The most frequent element is: 2\n"
     ]
    }
   ],
   "source": [
    "def find_most_frequent_element(arr):\n",
    "    # Create a dictionary to store the frequency of each element\n",
    "    frequency_map = {}\n",
    "\n",
    "    # Traverse the array and update the frequency map\n",
    "    for num in arr:\n",
    "        if num in frequency_map:\n",
    "            frequency_map[num] += 1\n",
    "        else:\n",
    "            frequency_map[num] = 1\n",
    "\n",
    "    # Find the element with the maximum frequency\n",
    "    max_frequency = 0\n",
    "    most_frequent_element = None\n",
    "\n",
    "    for num, frequency in frequency_map.items():\n",
    "        if frequency > max_frequency:\n",
    "            max_frequency = frequency\n",
    "            most_frequent_element = num\n",
    "\n",
    "    return most_frequent_element\n",
    "\n",
    "# Example usage\n",
    "arr = [1, 2, 3, 4, 1, 2, 2, 3, 2, 2, 5]\n",
    "result = find_most_frequent_element(arr)\n",
    "print(f\"The most frequent element is: {result}\")\n"
   ]
  },
  {
   "cell_type": "markdown",
   "id": "4223a5bc-c1b2-48e1-944d-21d928a19083",
   "metadata": {},
   "source": [
    "This algorithm has a time complexity of O(n), where n is the length of the input array, as it iterates through the array once and uses a dictionary to keep track of the frequency of each element."
   ]
  },
  {
   "cell_type": "markdown",
   "id": "9740556c-5385-4c74-9d90-02453f91c2a1",
   "metadata": {},
   "source": [
    "Problem 2 : We are given a list of n-1 integers and these integers are in the range of 1 to n . There are no\n",
    "duplicates in the list. One of the integers is missing in the list. Give an algorithm to find that element Ex:\n",
    "[1,2,4,6,3,7,8] 5 is the missing num."
   ]
  },
  {
   "cell_type": "markdown",
   "id": "38935f67-6dc6-4910-b8dc-5208ead991cb",
   "metadata": {},
   "source": [
    "To find the missing element in a list of n-1 integers with values in the range of 1 to n, where there are no duplicates, you can calculate the expected sum of the elements in the range and subtract the sum of the given list. The result will be the missing element. Here's an algorithm in Python:"
   ]
  },
  {
   "cell_type": "code",
   "execution_count": 2,
   "id": "27e4b182-7206-4dc4-a673-b3b388591745",
   "metadata": {},
   "outputs": [
    {
     "name": "stdout",
     "output_type": "stream",
     "text": [
      "The missing element is: 5\n"
     ]
    }
   ],
   "source": [
    "def find_missing_element(arr):\n",
    "    # Calculate the expected sum using the formula for the sum of the first n natural numbers\n",
    "    n = len(arr) + 1\n",
    "    expected_sum = (n * (n + 1)) // 2\n",
    "\n",
    "    # Calculate the actual sum of the given list\n",
    "    actual_sum = sum(arr)\n",
    "\n",
    "    # The difference between the expected sum and actual sum is the missing element\n",
    "    missing_element = expected_sum - actual_sum\n",
    "\n",
    "    return missing_element\n",
    "\n",
    "# Example usage\n",
    "arr = [1, 2, 4, 6, 3, 7, 8]\n",
    "result = find_missing_element(arr)\n",
    "print(f\"The missing element is: {result}\")\n"
   ]
  },
  {
   "cell_type": "markdown",
   "id": "b686bd02-2fbb-44d2-873c-29121d624b30",
   "metadata": {},
   "source": [
    "This algorithm has a time complexity of O(n), where n is the length of the input list. It computes the expected sum in constant time and calculates the actual sum in linear time by iterating through the list once. The subtraction of the actual sum from the expected sum gives the missing element."
   ]
  },
  {
   "cell_type": "markdown",
   "id": "028cacab-28dc-42fd-8694-74acad59fbde",
   "metadata": {},
   "source": [
    "Problem 3 : Given an array of n positive numbers. All numbers occurs even number of times except 1 which\n",
    "occurs odd number of times. Find that number in O(n) time and O(1) space. Ex: [1,2,3,2,3,1,3]. 3 is repeats odd\n",
    "times."
   ]
  },
  {
   "cell_type": "markdown",
   "id": "1e9c1c98-9057-452b-b75b-ac98ec0dddfe",
   "metadata": {},
   "source": [
    "To find the element that occurs an odd number of times in an array where all other elements occur an even number of times, you can use the XOR (exclusive OR) operation. The XOR operation has the property that XORing a number with itself results in 0. Therefore, XORing all elements in the array will cancel out elements that occur even times, leaving only the element that occurs an odd number of times.\n",
    "\n",
    "Here's the algorithm in Python:"
   ]
  },
  {
   "cell_type": "code",
   "execution_count": 4,
   "id": "64148c49-20ed-48f1-8e34-eab9e9735322",
   "metadata": {},
   "outputs": [
    {
     "name": "stdout",
     "output_type": "stream",
     "text": [
      "The element occurring odd times is: 3\n"
     ]
    }
   ],
   "source": [
    "def find_odd_occurrence(arr):\n",
    "    result = 0\n",
    "\n",
    "    # XOR all elements in the array\n",
    "    for num in arr:\n",
    "        result ^= num\n",
    "\n",
    "    return result\n",
    "\n",
    "# Example usage\n",
    "arr = [1, 2, 3, 2, 3, 1, 3]\n",
    "result = find_odd_occurrence(arr)\n",
    "print(f\"The element occurring odd times is: {result}\")\n"
   ]
  },
  {
   "cell_type": "markdown",
   "id": "f9cab54a-f806-42d1-b549-57119fec9a38",
   "metadata": {},
   "source": [
    "This algorithm has a time complexity of O(n) because it iterates through the array once, and it has a space complexity of O(1) because it uses a single variable (result) for computation.\n",
    "\n",
    "The idea is that XORing the same number twice results in 0, so when you XOR all elements in the array, the even occurrences will cancel each other out, and the result will be the element occurring an odd number of times.\n",
    "\n",
    "\n",
    "\n",
    "\n",
    "\n",
    "\n"
   ]
  },
  {
   "cell_type": "markdown",
   "id": "68205a22-cff6-4dd0-96af-c64ab13bea1a",
   "metadata": {},
   "source": [
    "Problem 4 : Given an array of n elements. Find two elements in the array such that their sum is equal to given\n",
    "element K."
   ]
  },
  {
   "cell_type": "markdown",
   "id": "c96df07c-5e03-4a1e-82b6-5ef246881e54",
   "metadata": {},
   "source": [
    "To find two elements in an array such that their sum is equal to a given element K, you can use a hash set to keep track of the elements as you iterate through the array. The algorithm has a time complexity of O(n) and uses O(n) space. Here's the Python implementation:"
   ]
  },
  {
   "cell_type": "code",
   "execution_count": 5,
   "id": "eb331634-16bc-4643-bd0e-8ed95898441d",
   "metadata": {},
   "outputs": [
    {
     "name": "stdout",
     "output_type": "stream",
     "text": [
      "The pair with sum 10 is: (6, 4)\n"
     ]
    }
   ],
   "source": [
    "def find_pair_with_sum(arr, target_sum):\n",
    "    seen_numbers = set()\n",
    "\n",
    "    for num in arr:\n",
    "        complement = target_sum - num\n",
    "\n",
    "        if complement in seen_numbers:\n",
    "            return num, complement\n",
    "\n",
    "        seen_numbers.add(num)\n",
    "\n",
    "    return None  # If no such pair is found\n",
    "\n",
    "# Example usage\n",
    "arr = [1, 2, 3, 4, 5, 6]\n",
    "target_sum = 10\n",
    "result = find_pair_with_sum(arr, target_sum)\n",
    "\n",
    "if result:\n",
    "    print(f\"The pair with sum {target_sum} is: {result}\")\n",
    "else:\n",
    "    print(f\"No pair found with sum {target_sum}\")\n"
   ]
  },
  {
   "cell_type": "markdown",
   "id": "ad0c78c3-3d32-4a02-a3f4-e15b08f2f146",
   "metadata": {},
   "source": [
    "This algorithm uses a set (seen_numbers) to keep track of the elements as it iterates through the array. For each element, it calculates the complement (the value needed to reach the target sum) and checks if the complement is in the set. If it is, the function returns the pair of elements; otherwise, it adds the current element to the set.\n",
    "\n",
    "Note: This algorithm assumes that there is exactly one solution in the array for the given target sum. If there can be multiple pairs with the same sum, you may need to modify the algorithm accordingly.\n",
    "\n",
    "\n",
    "\n",
    "\n",
    "\n",
    "\n"
   ]
  },
  {
   "cell_type": "markdown",
   "id": "eb36a8d9-7d33-4bca-8c62-bf37be1e1d00",
   "metadata": {},
   "source": [
    "Problem 5 : Given an array of both positive and negative numbers, find two numbers such that their sum is\n",
    "closest to 0. Ex: [ 1 ,60 ,-10, 70, -80,85]. Ans : -80,85."
   ]
  },
  {
   "cell_type": "markdown",
   "id": "43f3fef6-f189-4daf-81b4-a82ffb186f0d",
   "metadata": {},
   "source": [
    "To find two numbers in an array such that their sum is closest to 0, you can sort the array and then iterate through it to find the pair with the smallest absolute sum. Here's the Python implementation:"
   ]
  },
  {
   "cell_type": "code",
   "execution_count": 6,
   "id": "15d1d3df-5bab-4388-8b51-a7084764e858",
   "metadata": {},
   "outputs": [
    {
     "name": "stdout",
     "output_type": "stream",
     "text": [
      "The pair with sum closest to 0 is: (-80, 85)\n"
     ]
    }
   ],
   "source": [
    "def find_closest_to_zero_pair(arr):\n",
    "    arr.sort()\n",
    "    n = len(arr)\n",
    "\n",
    "    if n < 2:\n",
    "        return None  # No pair can be found\n",
    "\n",
    "    min_sum = float('inf')\n",
    "    result_pair = None\n",
    "\n",
    "    left, right = 0, n - 1\n",
    "\n",
    "    while left < right:\n",
    "        current_sum = arr[left] + arr[right]\n",
    "\n",
    "        # Update the result if the current pair has a smaller absolute sum\n",
    "        if abs(current_sum) < min_sum:\n",
    "            min_sum = abs(current_sum)\n",
    "            result_pair = (arr[left], arr[right])\n",
    "\n",
    "        # Move pointers based on the current sum\n",
    "        if current_sum < 0:\n",
    "            left += 1\n",
    "        elif current_sum > 0:\n",
    "            right -= 1\n",
    "        else:\n",
    "            return result_pair  # If the sum is exactly 0, return the pair\n",
    "\n",
    "    return result_pair\n",
    "\n",
    "# Example usage\n",
    "arr = [1, 60, -10, 70, -80, 85]\n",
    "result = find_closest_to_zero_pair(arr)\n",
    "print(f\"The pair with sum closest to 0 is: {result}\")\n"
   ]
  },
  {
   "cell_type": "markdown",
   "id": "b88744a7-2e31-4c0f-8208-1ac64e483638",
   "metadata": {},
   "source": [
    "This algorithm has a time complexity of O(n log n) due to the sorting step. The idea is to maintain two pointers at both ends of the sorted array and move them towards each other until the closest sum is found. The result is a pair of elements with the sum closest to zero."
   ]
  },
  {
   "cell_type": "markdown",
   "id": "e7a3ab78-643f-4515-aa25-51c3f9b60071",
   "metadata": {},
   "source": [
    "Problem 6 : Given an array of n elements . Find three elements such that their sum is equal to the given\n",
    "number."
   ]
  },
  {
   "cell_type": "markdown",
   "id": "6847f45d-c324-4ad4-9b24-186b249e8cca",
   "metadata": {},
   "source": [
    "To find three elements in an array such that their sum is equal to a given number, you can use a similar approach as the two-sum problem, but you'll need three nested loops to iterate through all possible triplets. Here's the Python implementation:"
   ]
  },
  {
   "cell_type": "code",
   "execution_count": 7,
   "id": "9eb93e3a-085a-49a0-9cef-93c7b419da69",
   "metadata": {},
   "outputs": [
    {
     "name": "stdout",
     "output_type": "stream",
     "text": [
      "The triplet with sum 22 is: (4, 8, 10)\n"
     ]
    }
   ],
   "source": [
    "def find_three_elements_with_sum(arr, target_sum):\n",
    "    arr.sort()\n",
    "    n = len(arr)\n",
    "\n",
    "    for i in range(n - 2):\n",
    "        left, right = i + 1, n - 1\n",
    "\n",
    "        while left < right:\n",
    "            current_sum = arr[i] + arr[left] + arr[right]\n",
    "\n",
    "            if current_sum == target_sum:\n",
    "                return arr[i], arr[left], arr[right]\n",
    "            elif current_sum < target_sum:\n",
    "                left += 1\n",
    "            else:\n",
    "                right -= 1\n",
    "\n",
    "    return None  # If no such triplet is found\n",
    "\n",
    "# Example usage\n",
    "arr = [1, 4, 45, 6, 10, 8]\n",
    "target_sum = 22\n",
    "result = find_three_elements_with_sum(arr, target_sum)\n",
    "\n",
    "if result:\n",
    "    print(f\"The triplet with sum {target_sum} is: {result}\")\n",
    "else:\n",
    "    print(f\"No triplet found with sum {target_sum}\")\n"
   ]
  },
  {
   "cell_type": "markdown",
   "id": "90060459-fba4-423f-8b28-5dede7844472",
   "metadata": {},
   "source": [
    "This algorithm has a time complexity of O(n^2) due to the sorting and nested loops. The idea is to fix one element (arr[i]) and then find a pair in the remaining array using two pointers (left and right). Adjust the pointers based on the current sum compared to the target sum.\n",
    "\n",
    "Note: This assumes that there is exactly one solution in the array for the given target sum. If there can be multiple triplets with the same sum, you may need to modify the algorithm accordingly."
   ]
  },
  {
   "cell_type": "markdown",
   "id": "5a826969-27aa-42aa-ba15-8a0842c1d740",
   "metadata": {},
   "source": [
    "Problem 7 : Given an array of n elements . Find three elements i, j, k in the array such that\n",
    "i * i + j * j = k*k."
   ]
  },
  {
   "cell_type": "markdown",
   "id": "77ae375a-fe3e-424f-be9c-629b3e17eef2",
   "metadata": {},
   "source": [
    "o find three elements i, j, k in the array such that i * i + j * j = k * k, you can use a hash set to efficiently check if the square of the current element is equal to the sum of the squares of two other elements. Here's a Python implementation:"
   ]
  },
  {
   "cell_type": "code",
   "execution_count": 8,
   "id": "1972a2ce-3204-4151-b31b-83119690e793",
   "metadata": {},
   "outputs": [
    {
     "name": "stdout",
     "output_type": "stream",
     "text": [
      "The Pythagorean triplet is: (3, 4, 5)\n"
     ]
    }
   ],
   "source": [
    "def find_pythagorean_triplet(arr):\n",
    "    arr.sort()\n",
    "    n = len(arr)\n",
    "\n",
    "    for i in range(n - 1, 1, -1):\n",
    "        left, right = 0, i - 1\n",
    "\n",
    "        while left < right:\n",
    "            square_sum = arr[left] ** 2 + arr[right] ** 2\n",
    "\n",
    "            if square_sum == arr[i] ** 2:\n",
    "                return arr[left], arr[right], arr[i]\n",
    "            elif square_sum < arr[i] ** 2:\n",
    "                left += 1\n",
    "            else:\n",
    "                right -= 1\n",
    "\n",
    "    return None  # If no such triplet is found\n",
    "\n",
    "# Example usage\n",
    "arr = [3, 1, 4, 6, 5]\n",
    "result = find_pythagorean_triplet(arr)\n",
    "\n",
    "if result:\n",
    "    print(f\"The Pythagorean triplet is: {result}\")\n",
    "else:\n",
    "    print(\"No Pythagorean triplet found.\")\n"
   ]
  },
  {
   "cell_type": "markdown",
   "id": "204187e5-f856-4e7c-8937-6f596b0f3cc7",
   "metadata": {},
   "source": [
    "This algorithm has a time complexity of O(n^2) due to the sorting and nested loops. The idea is to fix one element (arr[i]) and then find a pair in the remaining array using two pointers (left and right). The condition arr[left] ** 2 + arr[right] ** 2 == arr[i] ** 2 checks if the current triplet satisfies the Pythagorean theorem.\n",
    "\n",
    "Note: This assumes that there is exactly one Pythagorean triplet in the array. If there can be multiple triplets with the same sum, you may need to modify the algorithm accordingly."
   ]
  },
  {
   "cell_type": "markdown",
   "id": "6a5dcaf6-4541-4c32-aae6-0a7be85ed993",
   "metadata": {},
   "source": [
    "Problem 8 : An element is a majority if it appears more than n/2 times. Give an algorithm takes an array of n\n",
    "element as argument and identifies a majority (if it exists)."
   ]
  },
  {
   "cell_type": "markdown",
   "id": "5f2221f8-73e4-4e1c-8911-05ec31d39d9c",
   "metadata": {},
   "source": [
    "To identify the majority element in an array (if it exists), you can use Boyer-Moore Voting Algorithm. This algorithm is efficient and works in O(n) time complexity with O(1) space. The idea is to cancel out each occurrence of an element with a different element. If there is a majority element, it will eventually remain after the cancellation process.\n",
    "\n",
    "Here's the Python implementation:"
   ]
  },
  {
   "cell_type": "code",
   "execution_count": 9,
   "id": "d579cfff-accf-490f-8ff7-546ed7e7580c",
   "metadata": {},
   "outputs": [
    {
     "name": "stdout",
     "output_type": "stream",
     "text": [
      "The majority element is: 4\n"
     ]
    }
   ],
   "source": [
    "def find_majority_element(arr):\n",
    "    candidate = None\n",
    "    count = 0\n",
    "\n",
    "    # Step 1: Find a potential majority candidate\n",
    "    for num in arr:\n",
    "        if count == 0:\n",
    "            candidate = num\n",
    "            count = 1\n",
    "        elif candidate == num:\n",
    "            count += 1\n",
    "        else:\n",
    "            count -= 1\n",
    "\n",
    "    # Step 2: Verify if the candidate is a majority element\n",
    "    count = 0\n",
    "    for num in arr:\n",
    "        if num == candidate:\n",
    "            count += 1\n",
    "\n",
    "    if count > len(arr) // 2:\n",
    "        return candidate\n",
    "    else:\n",
    "        return None  # No majority element found\n",
    "\n",
    "# Example usage\n",
    "arr = [3, 3, 4, 2, 4, 4, 2, 4, 4]\n",
    "result = find_majority_element(arr)\n",
    "\n",
    "if result is not None:\n",
    "    print(f\"The majority element is: {result}\")\n",
    "else:\n",
    "    print(\"No majority element found.\")\n"
   ]
  },
  {
   "cell_type": "markdown",
   "id": "c77aa9ef-6355-4d65-8240-865f5d6b2882",
   "metadata": {},
   "source": [
    "This algorithm works by maintaining a candidate and a count. It iterates through the array, updating the count and candidate based on whether the current element matches the candidate or not. After finding a potential majority candidate, it verifies if it is a majority element by counting its occurrences in the array.\n",
    "\n",
    "Note: This algorithm assumes that there is at most one majority element in the array. If there can be multiple majority elements, additional processing may be needed.\n",
    "\n",
    "\n",
    "\n",
    "\n",
    "\n",
    "\n"
   ]
  },
  {
   "cell_type": "markdown",
   "id": "95be3061-e608-4e3e-85b0-2aee0deaadd1",
   "metadata": {},
   "source": [
    "Problem 9 : Given n × n matrix, and in each row all 1’s are followed by 0’s. Find the row with the maximum\n",
    "number of 0’s."
   ]
  },
  {
   "cell_type": "markdown",
   "id": "028ba306-8440-4ec4-83e1-3ccc5d1e156f",
   "metadata": {},
   "source": [
    "To find the row with the maximum number of 0's in an n x n matrix where, in each row, all 1’s are followed by 0’s, you can use a binary search-like approach. Starting from the first row, iterate through each row and find the leftmost occurrence of 0. The index of the leftmost 0 in each row will give you the count of 0's in that row.\n",
    "\n",
    "Here's a Python implementation:"
   ]
  },
  {
   "cell_type": "code",
   "execution_count": 10,
   "id": "ffce1720-1443-46b7-8c11-31c1ccd46898",
   "metadata": {},
   "outputs": [
    {
     "name": "stdout",
     "output_type": "stream",
     "text": [
      "The row with the maximum number of 0's is: 4\n"
     ]
    }
   ],
   "source": [
    "def find_max_zero_row(matrix):\n",
    "    n = len(matrix)\n",
    "\n",
    "    max_zeros_row = -1\n",
    "    max_zeros_count = -1\n",
    "\n",
    "    for row in range(n):\n",
    "        zeros_count = matrix[row].index(0) if 0 in matrix[row] else n\n",
    "\n",
    "        if zeros_count > max_zeros_count:\n",
    "            max_zeros_count = zeros_count\n",
    "            max_zeros_row = row\n",
    "\n",
    "    return max_zeros_row\n",
    "\n",
    "# Example usage\n",
    "matrix = [\n",
    "    [1, 1, 1, 0, 0],\n",
    "    [1, 1, 0, 0, 0],\n",
    "    [1, 0, 0, 0, 0],\n",
    "    [1, 1, 1, 1, 0],\n",
    "    [1, 1, 1, 1, 1]\n",
    "]\n",
    "\n",
    "result = find_max_zero_row(matrix)\n",
    "print(f\"The row with the maximum number of 0's is: {result}\")\n"
   ]
  },
  {
   "cell_type": "markdown",
   "id": "e2909044-2e0e-4e8f-8bac-0fa5cc398e26",
   "metadata": {},
   "source": [
    "This algorithm has a time complexity of O(n log n) because, in the worst case, it may perform a binary search on each row. The binary search for the leftmost occurrence of 0 is implemented using the index method in Python.\n",
    "\n",
    "Note: This assumes that each row in the matrix has the specified property (all 1’s are followed by 0’s). If this property is not guaranteed, additional checks may be needed."
   ]
  },
  {
   "cell_type": "markdown",
   "id": "406e92cb-2d23-4ec5-a0db-4832cdfb73f4",
   "metadata": {},
   "source": [
    "Problem 10 : Sort an array of 0’s, 1’s and 2’s [or R’s, G’s and B’s]: Given an array A[] consisting of 0’s, 1’s and\n",
    "2’s, give an algorithm for sorting A[].The algorithm should put all 0’s first, then all 1’s and finally all 2’s at the\n",
    "end. Example Input = {0,1,1,0,1,2,1,2,0,0,0,1}, Output = {0,0,0,0,0,1,1,1,1,1,2,2}"
   ]
  },
  {
   "cell_type": "markdown",
   "id": "7de758b8-36bf-4f47-bc91-610d7e1eb652",
   "metadata": {},
   "source": [
    "You can solve this problem using a Dutch National Flag algorithm. The idea is to partition the array into three regions: 0's, 1's, and 2's, and then swap elements to move 0's to the beginning, 1's to the middle, and 2's to the end. Here's a Python implementation:"
   ]
  },
  {
   "cell_type": "code",
   "execution_count": 11,
   "id": "fa340069-2510-465b-b7f6-19883473e809",
   "metadata": {},
   "outputs": [
    {
     "name": "stdout",
     "output_type": "stream",
     "text": [
      "Sorted array: [0, 0, 0, 0, 0, 1, 1, 1, 1, 1, 2, 2]\n"
     ]
    }
   ],
   "source": [
    "def sort_012(arr):\n",
    "    low, mid, high = 0, 0, len(arr) - 1\n",
    "\n",
    "    while mid <= high:\n",
    "        if arr[mid] == 0:\n",
    "            arr[low], arr[mid] = arr[mid], arr[low]\n",
    "            low += 1\n",
    "            mid += 1\n",
    "        elif arr[mid] == 1:\n",
    "            mid += 1\n",
    "        else:\n",
    "            arr[mid], arr[high] = arr[high], arr[mid]\n",
    "            high -= 1\n",
    "\n",
    "# Example usage\n",
    "arr = [0, 1, 1, 0, 1, 2, 1, 2, 0, 0, 0, 1]\n",
    "sort_012(arr)\n",
    "print(\"Sorted array:\", arr)\n"
   ]
  },
  {
   "cell_type": "markdown",
   "id": "022642ac-3202-47b0-9950-c275801110e5",
   "metadata": {},
   "source": [
    "This algorithm uses three pointers (low, mid, and high) to keep track of the current positions of 0's, 1's, and 2's. It iterates through the array, and based on the value at the mid pointer, it swaps elements to move 0's to the beginning, 1's to the middle, and 2's to the end.\n",
    "\n",
    "This algorithm has a time complexity of O(n) where n is the length of the array, as it only requires a single pass through the array. The space complexity is O(1) since no extra space is used."
   ]
  },
  {
   "cell_type": "code",
   "execution_count": 12,
   "id": "a9bb4123-7b2f-4d0c-acfc-d1f83d65d9da",
   "metadata": {},
   "outputs": [],
   "source": [
    "#completed sorting assignment"
   ]
  },
  {
   "cell_type": "code",
   "execution_count": null,
   "id": "aa6a6c86-d215-49cc-9e92-8c5f6c73f287",
   "metadata": {},
   "outputs": [],
   "source": []
  }
 ],
 "metadata": {
  "kernelspec": {
   "display_name": "Python 3 (ipykernel)",
   "language": "python",
   "name": "python3"
  },
  "language_info": {
   "codemirror_mode": {
    "name": "ipython",
    "version": 3
   },
   "file_extension": ".py",
   "mimetype": "text/x-python",
   "name": "python",
   "nbconvert_exporter": "python",
   "pygments_lexer": "ipython3",
   "version": "3.11.5"
  }
 },
 "nbformat": 4,
 "nbformat_minor": 5
}
